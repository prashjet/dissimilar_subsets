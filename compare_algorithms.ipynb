{
 "cells": [
  {
   "cell_type": "markdown",
   "id": "f2090285",
   "metadata": {},
   "source": [
    "# Finding dissimilar subsets \n",
    "\n",
    "Find subsets which contain no pairs of very similar elements.\n",
    "\n",
    "This notebook compares theee methods: random search, a greedy algorithm, and [this graph based approach](https://cs.stackexchange.com/a/22783) from Stack Exchange."
   ]
  },
  {
   "cell_type": "code",
   "execution_count": 1,
   "id": "04393fc5",
   "metadata": {},
   "outputs": [],
   "source": [
    "import dissimilar_subsets as ds\n",
    "import numpy as np\n",
    "import matplotlib.pyplot as plt\n",
    "\n",
    "np.random.seed(311389)"
   ]
  },
  {
   "cell_type": "markdown",
   "id": "a2e2c923",
   "metadata": {},
   "source": [
    "Simulate a distance matrix"
   ]
  },
  {
   "cell_type": "code",
   "execution_count": 2,
   "id": "e708e071",
   "metadata": {},
   "outputs": [],
   "source": [
    "n = 500\n",
    "distance_matrix = np.random.normal(size=(n,n))\n",
    "distance_matrix = np.abs(distance_matrix)\n",
    "distance_matrix = distance_matrix + distance_matrix.T\n",
    "for i in range(n):\n",
    "    distance_matrix[i,i] = 0."
   ]
  },
  {
   "cell_type": "markdown",
   "id": "2ec00309",
   "metadata": {},
   "source": [
    "Try the three algorithms,"
   ]
  },
  {
   "cell_type": "code",
   "execution_count": 3,
   "id": "cb6421eb",
   "metadata": {},
   "outputs": [],
   "source": [
    "target_size = 15\n",
    "\n",
    "random_sample = ds.random_sample(distance_matrix, target_size)\n",
    "greedy_solution = ds.greedy_search(distance_matrix, target_size)\n",
    "iss_solutiuon = ds.independent_set_search(distance_matrix, target_size)"
   ]
  },
  {
   "cell_type": "markdown",
   "id": "1500ceed",
   "metadata": {},
   "source": [
    "Plot the minimum separation within the subset found by each of the algorithms,"
   ]
  },
  {
   "cell_type": "code",
   "execution_count": 4,
   "id": "d69e84b0",
   "metadata": {},
   "outputs": [
    {
     "data": {
      "image/png": "[encoded data removed]",
      "text/plain": [
       "<Figure size 432x288 with 1 Axes>"
      ]
     },
     "metadata": {
      "needs_background": "light"
     },
     "output_type": "display_data"
    }
   ],
   "source": [
    "plt.hist(random_sample, color='k', alpha=0.5, label='Random')\n",
    "plt.axvline(greedy_solution[1], color='C0', label='Greedy')\n",
    "plt.axvline(iss_solutiuon[1], color='C1', label='Independent Set')\n",
    "plt.gca().set_yscale('log')\n",
    "plt.gca().legend()\n",
    "_ = plt.gca().set_xlabel('Minimum separtion within subset')"
   ]
  },
  {
   "cell_type": "markdown",
   "id": "100a58a7",
   "metadata": {},
   "source": [
    "The subset found by the `independent_set_search` is slightly better than from `greedy_search` - both are much better than random."
   ]
  }
 ],
 "metadata": {
  "kernelspec": {
   "display_name": "Python 3 (ipykernel)",
   "language": "python",
   "name": "python3"
  },
  "language_info": {
   "codemirror_mode": {
    "name": "ipython",
    "version": 3
   },
   "file_extension": ".py",
   "mimetype": "text/x-python",
   "name": "python",
   "nbconvert_exporter": "python",
   "pygments_lexer": "ipython3",
   "version": "3.9.6"
  }
 },
 "nbformat": 4,
 "nbformat_minor": 5
}
